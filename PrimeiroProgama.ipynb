{
  "nbformat": 4,
  "nbformat_minor": 0,
  "metadata": {
    "colab": {
      "provenance": [],
      "mount_file_id": "1gs3lIZsTYnPZdy0F9yRGo2FcHX9WfZlL",
      "authorship_tag": "ABX9TyNsEK1vyc58yWA6bN9EOr/K",
      "include_colab_link": true
    },
    "kernelspec": {
      "name": "python3",
      "display_name": "Python 3"
    },
    "language_info": {
      "name": "python"
    }
  },
  "cells": [
    {
      "cell_type": "markdown",
      "metadata": {
        "id": "view-in-github",
        "colab_type": "text"
      },
      "source": [
        "<a href=\"https://colab.research.google.com/github/MarceloClash/Caculadora2024/blob/main/PrimeiroProgama.ipynb\" target=\"_parent\"><img src=\"https://colab.research.google.com/assets/colab-badge.svg\" alt=\"Open In Colab\"/></a>"
      ]
    },
    {
      "cell_type": "code",
      "source": [
        "qtde_pepsi = 130\n",
        "preco_pepsi  = 1.50\n",
        "print(qtde_pepsi * preco_pepsi)"
      ],
      "metadata": {
        "colab": {
          "base_uri": "https://localhost:8080/"
        },
        "id": "hLyRWezoblEb",
        "outputId": "5eab1d48-f205-45c4-d163-39fb3a984f5b"
      },
      "execution_count": 41,
      "outputs": [
        {
          "output_type": "stream",
          "name": "stdout",
          "text": [
            "195.0\n"
          ]
        }
      ]
    },
    {
      "cell_type": "code",
      "source": [
        "idade = 17\n",
        "if idade >= 18:\n",
        "    print(\"maior de idade\")\n",
        "else:\n",
        "    print(\"você é menor\")"
      ],
      "metadata": {
        "colab": {
          "base_uri": "https://localhost:8080/"
        },
        "id": "nemyGn_9fo0b",
        "outputId": "6e5e9346-f335-49da-f4b5-2964de3c6dcb"
      },
      "execution_count": 42,
      "outputs": [
        {
          "output_type": "stream",
          "name": "stdout",
          "text": [
            "você é menor\n"
          ]
        }
      ]
    },
    {
      "cell_type": "code",
      "source": [
        "nome = \"Marcelo\"\n",
        "sobreNome = \"luiz\"\n",
        "print(nome +\" \"+ sobreNome)\n"
      ],
      "metadata": {
        "colab": {
          "base_uri": "https://localhost:8080/"
        },
        "id": "6INNmUzujZlO",
        "outputId": "39110796-a6ea-40e0-9b7f-7c828f994b0f"
      },
      "execution_count": 43,
      "outputs": [
        {
          "output_type": "stream",
          "name": "stdout",
          "text": [
            "Marcelo luiz\n"
          ]
        }
      ]
    },
    {
      "cell_type": "code",
      "source": [
        "print((\"m\" and \"r\") in \"marcelo\")"
      ],
      "metadata": {
        "colab": {
          "base_uri": "https://localhost:8080/"
        },
        "id": "mhNMrqqij56t",
        "outputId": "c073ceb4-4d18-45f1-d723-603e6bac6403"
      },
      "execution_count": 44,
      "outputs": [
        {
          "output_type": "stream",
          "name": "stdout",
          "text": [
            "True\n"
          ]
        }
      ]
    },
    {
      "cell_type": "code",
      "source": [
        "faturamento = 150\n",
        "custo = 50\n",
        "lucro = faturamento - custo\n",
        "print(lucro)"
      ],
      "metadata": {
        "colab": {
          "base_uri": "https://localhost:8080/"
        },
        "id": "d0OJPkOvmJUG",
        "outputId": "984035f4-b490-403e-f4fc-b39c2a8ae67d"
      },
      "execution_count": 45,
      "outputs": [
        {
          "output_type": "stream",
          "name": "stdout",
          "text": [
            "100\n"
          ]
        }
      ]
    },
    {
      "cell_type": "code",
      "source": [
        "valor_inicial = float(input(\"Digite o valor inicial: \"))\n",
        "valor_final = float(input(\"Digite o valor final: \"))\n",
        "\n",
        "porcentagem_lucro = ((valor_final - valor_inicial) / valor_inicial) *100\n",
        "print(f\"A porcentagem de lucro é: {porcentagem_lucro:.2f}%\")"
      ],
      "metadata": {
        "colab": {
          "base_uri": "https://localhost:8080/"
        },
        "id": "u4951ypUm5_H",
        "outputId": "689a1f34-3d53-44c0-f0b0-368294ee9885"
      },
      "execution_count": 73,
      "outputs": [
        {
          "output_type": "stream",
          "name": "stdout",
          "text": [
            "Digite o valor inicial: 5.47\n",
            "Digite o valor final: 5.57\n",
            "A porcentagem de lucro é: 1.83%\n"
          ]
        }
      ]
    },
    {
      "cell_type": "code",
      "source": [
        "\n",
        "nome = input(\"Qual é seu nome:\")\n",
        "sobrenome = input(\"Qual é seu sobrenome:\")\n",
        "print(nome + \" \" + sobrenome)"
      ],
      "metadata": {
        "colab": {
          "base_uri": "https://localhost:8080/"
        },
        "id": "tZBmx8SN3sU1",
        "outputId": "dab36880-8736-43f7-85e4-9511dc9fd0c4"
      },
      "execution_count": 75,
      "outputs": [
        {
          "output_type": "stream",
          "name": "stdout",
          "text": [
            "Qual é seu nome:Marcelo\n",
            "Qual é seu sobrenome:luiz\n",
            "Marcelo luiz\n"
          ]
        }
      ]
    },
    {
      "cell_type": "markdown",
      "source": [
        "#Exercicios do modulo 1- Operaçoes,variaveis e input\n",
        "Parte 1 - Operacoes e variaveis\n",
        "crie um progama que imprima(print) os prncipais indicadores da Hastag&Drink no último ano. Obs: faça tudo usando variáveis.\n",
        "\n",
        "valores do ultimo ano:\n",
        "Quantidade de vendas da Coca = 150\n",
        "Quantidade de vendas da Pepsi = 130\n",
        "Preço unitario da Pepsi = 1,5\n",
        "Preço unitario da Coca = 1,45\n",
        "Custo da loja: 2500,00\n"
      ],
      "metadata": {
        "id": "NQYetBrN6g8n"
      }
    },
    {
      "cell_type": "code",
      "source": [
        "qtde_pepsi = 130\n",
        "qtde_coca = 150\n",
        "preco_pepsi = 1.50\n",
        "preco_coca = 1.50\n",
        "custo = 2500\n"
      ],
      "metadata": {
        "id": "qHKy7gZr4tsp"
      },
      "execution_count": 81,
      "outputs": []
    },
    {
      "cell_type": "markdown",
      "source": [
        "1.Qual foi o faturamento de pepsi da loja?"
      ],
      "metadata": {
        "id": "GFkyuSAbDR4X"
      }
    },
    {
      "cell_type": "code",
      "source": [
        "faturamento_pepsi = qtde_pepsi * preco_pepsi\n",
        "print(faturamento_pepsi)\n"
      ],
      "metadata": {
        "colab": {
          "base_uri": "https://localhost:8080/"
        },
        "id": "yd-cxZWH35op",
        "outputId": "44c2a6f2-fd38-43f9-a4cd-4be7d1f4156a"
      },
      "execution_count": 85,
      "outputs": [
        {
          "output_type": "stream",
          "name": "stdout",
          "text": [
            "195.0\n"
          ]
        }
      ]
    },
    {
      "cell_type": "markdown",
      "source": [
        "2.Qual foi o faturamento de Coca da loja?\n"
      ],
      "metadata": {
        "id": "fO0NYCoCDtTJ"
      }
    },
    {
      "cell_type": "code",
      "source": [
        "faturamento_coca = qtde_coca * preco_coca\n",
        "print(faturamento_coca)"
      ],
      "metadata": {
        "colab": {
          "base_uri": "https://localhost:8080/"
        },
        "id": "93KCCUd1D7Gl",
        "outputId": "47534aa6-6c94-4750-d75c-7e03930355f0"
      },
      "execution_count": 86,
      "outputs": [
        {
          "output_type": "stream",
          "name": "stdout",
          "text": [
            "225.0\n"
          ]
        }
      ]
    },
    {
      "cell_type": "markdown",
      "source": [
        "3.Qual foi o lucro da loja?"
      ],
      "metadata": {
        "id": "pCVyJypiEIxr"
      }
    },
    {
      "cell_type": "code",
      "source": [
        "faturamento = qtde_coca * preco_coca + qtde_pepsi * preco_pepsi\n",
        "lucro = faturamento - custo\n",
        "print(lucro)"
      ],
      "metadata": {
        "colab": {
          "base_uri": "https://localhost:8080/"
        },
        "id": "QVuCobDlEVMJ",
        "outputId": "4cbca76a-a26b-4173-bc63-f69053b7f8ac"
      },
      "execution_count": 90,
      "outputs": [
        {
          "output_type": "stream",
          "name": "stdout",
          "text": [
            "-2080.0\n"
          ]
        }
      ]
    },
    {
      "cell_type": "markdown",
      "source": [
        "4.Qual foi a margem da loja? (lembre-se margem = lucro / faturamento)"
      ],
      "metadata": {
        "id": "JJf8Bh4_E5j7"
      }
    },
    {
      "cell_type": "code",
      "source": [
        "margem_lucro = lucro / faturamento\n",
        "print(margem_lucro)"
      ],
      "metadata": {
        "colab": {
          "base_uri": "https://localhost:8080/"
        },
        "id": "aXlh-uIAFVcJ",
        "outputId": "dd17f5ec-e42f-4ad8-c67a-78f07079d8e2"
      },
      "execution_count": 91,
      "outputs": [
        {
          "output_type": "stream",
          "name": "stdout",
          "text": [
            "-4.9523809523809526\n"
          ]
        }
      ]
    },
    {
      "cell_type": "markdown",
      "source": [
        "# Parte 2 - inputs e Strings\n",
        "\n",
        "A maioria das empresas trabalham com um Código para cada produto que possuem. A Hastag&Drink, por exemplo tem mais de 1.000\n",
        "produtos e possui um código para cada produto. Ex: Coca => Código: BEB1300546\n",
        "Pepsi => Código: BEBC1300545\n",
        "Vinho Primitivo Lucarelli => código: BAC1546001\n",
        "Vodka Smirnoff => Código: BAC17675002\n",
        "\n",
        "Repare que todas as bebidas não alcóolicas tem o inicio do Código \"BEB\" e todas as bebidas alcóolicas tem o inicio do código \"BAC\".\n",
        "Crie um progama de consulta de bebidas que, dado o código qualquer, indentifique se é alcóolica. O progama deve responder True para bebidas alcóolicas e False para bebidas não alcóolicas. Para inserir um codigo, use um input.\n",
        "Dica: lembre-se do comando in para strings e sempre insira os códigos com maiúsculas para facilitar."
      ],
      "metadata": {
        "id": "rcyPLAJj-eyN"
      }
    },
    {
      "cell_type": "code",
      "source": [
        "codigo = input(\"qual é o codigo da bebida? Insira em letra maiuscula: \")\n",
        "print(\"BAC\" in codigo)\n"
      ],
      "metadata": {
        "colab": {
          "base_uri": "https://localhost:8080/"
        },
        "id": "894fUoPFBO7V",
        "outputId": "9b7d2942-f9c1-4b20-cce6-2a7f1273f4e4"
      },
      "execution_count": 94,
      "outputs": [
        {
          "output_type": "stream",
          "name": "stdout",
          "text": [
            "qual é o codigo da bebida? Insira em letra maiuscula:  BAC17675002\n",
            "True\n"
          ]
        }
      ]
    }
  ]
}